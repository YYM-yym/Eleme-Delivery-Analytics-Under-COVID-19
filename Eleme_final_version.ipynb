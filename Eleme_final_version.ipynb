{
  "nbformat": 4,
  "nbformat_minor": 0,
  "metadata": {
    "colab": {
      "name": "Final Project.ipynb",
      "provenance": [],
      "collapsed_sections": []
    },
    "kernelspec": {
      "name": "python3",
      "display_name": "Python 3"
    }
  },
  "cells": [
    {
      "cell_type": "markdown",
      "metadata": {
        "id": "cQBRMhcOh7k3"
      },
      "source": [
        "Our goal is to estimate expected delivery time and to predict the courier's next movement. \n",
        "\n",
        "The first thing we did is figuring out the meaning and connection behind each variables, and thinking about how they would influence the target variable we neeed to predict. We find there are both numeric variables and factor variables exist, so we transform factor variables into numbers.\n",
        "\n",
        "**Problems we met:\n",
        "\n",
        "UnicodeDecodeError have trouble read test_dataframe because the table contains chinese. use (encoding = 'gbk') to solve.\n",
        "\n",
        "the meaning of source type 'ASSIGN'.\n",
        "\n",
        "we doubted the significance of some variables."
      ]
    },
    {
      "cell_type": "code",
      "metadata": {
        "id": "PndjdLlpwlA2",
        "colab": {
          "base_uri": "https://localhost:8080/",
          "height": 71
        },
        "outputId": "0fe05705-dfba-4a4c-a921-df83af3d1244"
      },
      "source": [
        "#Import Python packages\n",
        "import pandas as pd\n",
        "import numpy as np\n",
        "import matplotlib as mpl\n",
        "import matplotlib.pyplot as plt\n",
        "%matplotlib inline\n",
        "import statsmodels.formula.api as smf"
      ],
      "execution_count": null,
      "outputs": [
        {
          "output_type": "stream",
          "text": [
            "/usr/local/lib/python3.6/dist-packages/statsmodels/tools/_testing.py:19: FutureWarning: pandas.util.testing is deprecated. Use the functions in the public API at pandas.testing instead.\n",
            "  import pandas.util.testing as tm\n"
          ],
          "name": "stderr"
        }
      ]
    },
    {
      "cell_type": "code",
      "metadata": {
        "id": "j8OjgJrUwvFP",
        "colab": {
          "base_uri": "https://localhost:8080/",
          "height": 413
        },
        "outputId": "660c7985-2f54-4b9c-a092-74c01f3f88eb"
      },
      "source": [
        "#read data\n",
        "data_train = pd.read_csv(\"dataframe_train.csv\")\n",
        "data_train"
      ],
      "execution_count": null,
      "outputs": [
        {
          "output_type": "error",
          "ename": "FileNotFoundError",
          "evalue": "ignored",
          "traceback": [
            "\u001b[0;31m---------------------------------------------------------------------------\u001b[0m",
            "\u001b[0;31mFileNotFoundError\u001b[0m                         Traceback (most recent call last)",
            "\u001b[0;32m<ipython-input-9-c03c4a31b7b5>\u001b[0m in \u001b[0;36m<module>\u001b[0;34m()\u001b[0m\n\u001b[1;32m      1\u001b[0m \u001b[0;31m#read data\u001b[0m\u001b[0;34m\u001b[0m\u001b[0;34m\u001b[0m\u001b[0;34m\u001b[0m\u001b[0m\n\u001b[0;32m----> 2\u001b[0;31m \u001b[0mdata_train\u001b[0m \u001b[0;34m=\u001b[0m \u001b[0mpd\u001b[0m\u001b[0;34m.\u001b[0m\u001b[0mread_csv\u001b[0m\u001b[0;34m(\u001b[0m\u001b[0;34m\"dataframe_train.csv\"\u001b[0m\u001b[0;34m)\u001b[0m\u001b[0;34m\u001b[0m\u001b[0;34m\u001b[0m\u001b[0m\n\u001b[0m\u001b[1;32m      3\u001b[0m \u001b[0mdata_train\u001b[0m\u001b[0;34m\u001b[0m\u001b[0;34m\u001b[0m\u001b[0m\n",
            "\u001b[0;32m/usr/local/lib/python3.6/dist-packages/pandas/io/parsers.py\u001b[0m in \u001b[0;36mparser_f\u001b[0;34m(filepath_or_buffer, sep, delimiter, header, names, index_col, usecols, squeeze, prefix, mangle_dupe_cols, dtype, engine, converters, true_values, false_values, skipinitialspace, skiprows, skipfooter, nrows, na_values, keep_default_na, na_filter, verbose, skip_blank_lines, parse_dates, infer_datetime_format, keep_date_col, date_parser, dayfirst, cache_dates, iterator, chunksize, compression, thousands, decimal, lineterminator, quotechar, quoting, doublequote, escapechar, comment, encoding, dialect, error_bad_lines, warn_bad_lines, delim_whitespace, low_memory, memory_map, float_precision)\u001b[0m\n\u001b[1;32m    674\u001b[0m         )\n\u001b[1;32m    675\u001b[0m \u001b[0;34m\u001b[0m\u001b[0m\n\u001b[0;32m--> 676\u001b[0;31m         \u001b[0;32mreturn\u001b[0m \u001b[0m_read\u001b[0m\u001b[0;34m(\u001b[0m\u001b[0mfilepath_or_buffer\u001b[0m\u001b[0;34m,\u001b[0m \u001b[0mkwds\u001b[0m\u001b[0;34m)\u001b[0m\u001b[0;34m\u001b[0m\u001b[0;34m\u001b[0m\u001b[0m\n\u001b[0m\u001b[1;32m    677\u001b[0m \u001b[0;34m\u001b[0m\u001b[0m\n\u001b[1;32m    678\u001b[0m     \u001b[0mparser_f\u001b[0m\u001b[0;34m.\u001b[0m\u001b[0m__name__\u001b[0m \u001b[0;34m=\u001b[0m \u001b[0mname\u001b[0m\u001b[0;34m\u001b[0m\u001b[0;34m\u001b[0m\u001b[0m\n",
            "\u001b[0;32m/usr/local/lib/python3.6/dist-packages/pandas/io/parsers.py\u001b[0m in \u001b[0;36m_read\u001b[0;34m(filepath_or_buffer, kwds)\u001b[0m\n\u001b[1;32m    446\u001b[0m \u001b[0;34m\u001b[0m\u001b[0m\n\u001b[1;32m    447\u001b[0m     \u001b[0;31m# Create the parser.\u001b[0m\u001b[0;34m\u001b[0m\u001b[0;34m\u001b[0m\u001b[0;34m\u001b[0m\u001b[0m\n\u001b[0;32m--> 448\u001b[0;31m     \u001b[0mparser\u001b[0m \u001b[0;34m=\u001b[0m \u001b[0mTextFileReader\u001b[0m\u001b[0;34m(\u001b[0m\u001b[0mfp_or_buf\u001b[0m\u001b[0;34m,\u001b[0m \u001b[0;34m**\u001b[0m\u001b[0mkwds\u001b[0m\u001b[0;34m)\u001b[0m\u001b[0;34m\u001b[0m\u001b[0;34m\u001b[0m\u001b[0m\n\u001b[0m\u001b[1;32m    449\u001b[0m \u001b[0;34m\u001b[0m\u001b[0m\n\u001b[1;32m    450\u001b[0m     \u001b[0;32mif\u001b[0m \u001b[0mchunksize\u001b[0m \u001b[0;32mor\u001b[0m \u001b[0miterator\u001b[0m\u001b[0;34m:\u001b[0m\u001b[0;34m\u001b[0m\u001b[0;34m\u001b[0m\u001b[0m\n",
            "\u001b[0;32m/usr/local/lib/python3.6/dist-packages/pandas/io/parsers.py\u001b[0m in \u001b[0;36m__init__\u001b[0;34m(self, f, engine, **kwds)\u001b[0m\n\u001b[1;32m    878\u001b[0m             \u001b[0mself\u001b[0m\u001b[0;34m.\u001b[0m\u001b[0moptions\u001b[0m\u001b[0;34m[\u001b[0m\u001b[0;34m\"has_index_names\"\u001b[0m\u001b[0;34m]\u001b[0m \u001b[0;34m=\u001b[0m \u001b[0mkwds\u001b[0m\u001b[0;34m[\u001b[0m\u001b[0;34m\"has_index_names\"\u001b[0m\u001b[0;34m]\u001b[0m\u001b[0;34m\u001b[0m\u001b[0;34m\u001b[0m\u001b[0m\n\u001b[1;32m    879\u001b[0m \u001b[0;34m\u001b[0m\u001b[0m\n\u001b[0;32m--> 880\u001b[0;31m         \u001b[0mself\u001b[0m\u001b[0;34m.\u001b[0m\u001b[0m_make_engine\u001b[0m\u001b[0;34m(\u001b[0m\u001b[0mself\u001b[0m\u001b[0;34m.\u001b[0m\u001b[0mengine\u001b[0m\u001b[0;34m)\u001b[0m\u001b[0;34m\u001b[0m\u001b[0;34m\u001b[0m\u001b[0m\n\u001b[0m\u001b[1;32m    881\u001b[0m \u001b[0;34m\u001b[0m\u001b[0m\n\u001b[1;32m    882\u001b[0m     \u001b[0;32mdef\u001b[0m \u001b[0mclose\u001b[0m\u001b[0;34m(\u001b[0m\u001b[0mself\u001b[0m\u001b[0;34m)\u001b[0m\u001b[0;34m:\u001b[0m\u001b[0;34m\u001b[0m\u001b[0;34m\u001b[0m\u001b[0m\n",
            "\u001b[0;32m/usr/local/lib/python3.6/dist-packages/pandas/io/parsers.py\u001b[0m in \u001b[0;36m_make_engine\u001b[0;34m(self, engine)\u001b[0m\n\u001b[1;32m   1112\u001b[0m     \u001b[0;32mdef\u001b[0m \u001b[0m_make_engine\u001b[0m\u001b[0;34m(\u001b[0m\u001b[0mself\u001b[0m\u001b[0;34m,\u001b[0m \u001b[0mengine\u001b[0m\u001b[0;34m=\u001b[0m\u001b[0;34m\"c\"\u001b[0m\u001b[0;34m)\u001b[0m\u001b[0;34m:\u001b[0m\u001b[0;34m\u001b[0m\u001b[0;34m\u001b[0m\u001b[0m\n\u001b[1;32m   1113\u001b[0m         \u001b[0;32mif\u001b[0m \u001b[0mengine\u001b[0m \u001b[0;34m==\u001b[0m \u001b[0;34m\"c\"\u001b[0m\u001b[0;34m:\u001b[0m\u001b[0;34m\u001b[0m\u001b[0;34m\u001b[0m\u001b[0m\n\u001b[0;32m-> 1114\u001b[0;31m             \u001b[0mself\u001b[0m\u001b[0;34m.\u001b[0m\u001b[0m_engine\u001b[0m \u001b[0;34m=\u001b[0m \u001b[0mCParserWrapper\u001b[0m\u001b[0;34m(\u001b[0m\u001b[0mself\u001b[0m\u001b[0;34m.\u001b[0m\u001b[0mf\u001b[0m\u001b[0;34m,\u001b[0m \u001b[0;34m**\u001b[0m\u001b[0mself\u001b[0m\u001b[0;34m.\u001b[0m\u001b[0moptions\u001b[0m\u001b[0;34m)\u001b[0m\u001b[0;34m\u001b[0m\u001b[0;34m\u001b[0m\u001b[0m\n\u001b[0m\u001b[1;32m   1115\u001b[0m         \u001b[0;32melse\u001b[0m\u001b[0;34m:\u001b[0m\u001b[0;34m\u001b[0m\u001b[0;34m\u001b[0m\u001b[0m\n\u001b[1;32m   1116\u001b[0m             \u001b[0;32mif\u001b[0m \u001b[0mengine\u001b[0m \u001b[0;34m==\u001b[0m \u001b[0;34m\"python\"\u001b[0m\u001b[0;34m:\u001b[0m\u001b[0;34m\u001b[0m\u001b[0;34m\u001b[0m\u001b[0m\n",
            "\u001b[0;32m/usr/local/lib/python3.6/dist-packages/pandas/io/parsers.py\u001b[0m in \u001b[0;36m__init__\u001b[0;34m(self, src, **kwds)\u001b[0m\n\u001b[1;32m   1889\u001b[0m         \u001b[0mkwds\u001b[0m\u001b[0;34m[\u001b[0m\u001b[0;34m\"usecols\"\u001b[0m\u001b[0;34m]\u001b[0m \u001b[0;34m=\u001b[0m \u001b[0mself\u001b[0m\u001b[0;34m.\u001b[0m\u001b[0musecols\u001b[0m\u001b[0;34m\u001b[0m\u001b[0;34m\u001b[0m\u001b[0m\n\u001b[1;32m   1890\u001b[0m \u001b[0;34m\u001b[0m\u001b[0m\n\u001b[0;32m-> 1891\u001b[0;31m         \u001b[0mself\u001b[0m\u001b[0;34m.\u001b[0m\u001b[0m_reader\u001b[0m \u001b[0;34m=\u001b[0m \u001b[0mparsers\u001b[0m\u001b[0;34m.\u001b[0m\u001b[0mTextReader\u001b[0m\u001b[0;34m(\u001b[0m\u001b[0msrc\u001b[0m\u001b[0;34m,\u001b[0m \u001b[0;34m**\u001b[0m\u001b[0mkwds\u001b[0m\u001b[0;34m)\u001b[0m\u001b[0;34m\u001b[0m\u001b[0;34m\u001b[0m\u001b[0m\n\u001b[0m\u001b[1;32m   1892\u001b[0m         \u001b[0mself\u001b[0m\u001b[0;34m.\u001b[0m\u001b[0munnamed_cols\u001b[0m \u001b[0;34m=\u001b[0m \u001b[0mself\u001b[0m\u001b[0;34m.\u001b[0m\u001b[0m_reader\u001b[0m\u001b[0;34m.\u001b[0m\u001b[0munnamed_cols\u001b[0m\u001b[0;34m\u001b[0m\u001b[0;34m\u001b[0m\u001b[0m\n\u001b[1;32m   1893\u001b[0m \u001b[0;34m\u001b[0m\u001b[0m\n",
            "\u001b[0;32mpandas/_libs/parsers.pyx\u001b[0m in \u001b[0;36mpandas._libs.parsers.TextReader.__cinit__\u001b[0;34m()\u001b[0m\n",
            "\u001b[0;32mpandas/_libs/parsers.pyx\u001b[0m in \u001b[0;36mpandas._libs.parsers.TextReader._setup_parser_source\u001b[0;34m()\u001b[0m\n",
            "\u001b[0;31mFileNotFoundError\u001b[0m: [Errno 2] File dataframe_train.csv does not exist: 'dataframe_train.csv'"
          ]
        }
      ]
    },
    {
      "cell_type": "code",
      "metadata": {
        "id": "sgfZFmO7uzEo",
        "colab": {
          "base_uri": "https://localhost:8080/",
          "height": 439
        },
        "outputId": "ce48e293-a44e-4168-a322-876ea6381f8f"
      },
      "source": [
        "data_test = pd.read_csv(\"dataframe_test.csv\")\n",
        "data_test"
      ],
      "execution_count": null,
      "outputs": [
        {
          "output_type": "execute_result",
          "data": {
            "text/html": [
              "<div>\n",
              "<style scoped>\n",
              "    .dataframe tbody tr th:only-of-type {\n",
              "        vertical-align: middle;\n",
              "    }\n",
              "\n",
              "    .dataframe tbody tr th {\n",
              "        vertical-align: top;\n",
              "    }\n",
              "\n",
              "    .dataframe thead th {\n",
              "        text-align: right;\n",
              "    }\n",
              "</style>\n",
              "<table border=\"1\" class=\"dataframe\">\n",
              "  <thead>\n",
              "    <tr style=\"text-align: right;\">\n",
              "      <th></th>\n",
              "      <th>courier_id</th>\n",
              "      <th>wave_index</th>\n",
              "      <th>tracking_id</th>\n",
              "      <th>courier_wave_start_lng</th>\n",
              "      <th>courier_wave_start_lat</th>\n",
              "      <th>date</th>\n",
              "      <th>group</th>\n",
              "      <th>level</th>\n",
              "      <th>speed</th>\n",
              "      <th>max_load</th>\n",
              "      <th>weather_grade</th>\n",
              "      <th>aoi_id</th>\n",
              "      <th>shop_id</th>\n",
              "      <th>id</th>\n",
              "      <th>source_type</th>\n",
              "      <th>source_tracking_id</th>\n",
              "      <th>source_lng</th>\n",
              "      <th>source_lat</th>\n",
              "      <th>target_lng</th>\n",
              "      <th>target_lat</th>\n",
              "      <th>grid_distance</th>\n",
              "      <th>expected_use_time</th>\n",
              "      <th>urgency</th>\n",
              "      <th>hour</th>\n",
              "    </tr>\n",
              "  </thead>\n",
              "  <tbody>\n",
              "    <tr>\n",
              "      <th>0</th>\n",
              "      <td>10007871</td>\n",
              "      <td>2</td>\n",
              "      <td>2100075893538325690</td>\n",
              "      <td>121.630558</td>\n",
              "      <td>39.140900</td>\n",
              "      <td>20200228</td>\n",
              "      <td>20200228100078712</td>\n",
              "      <td>3</td>\n",
              "      <td>5.535851</td>\n",
              "      <td>11</td>\n",
              "      <td>正常天气</td>\n",
              "      <td>bf49288eb197bc6b44fa0573acf8c74d</td>\n",
              "      <td>34887bf8e1a0de848d271bc6b7059670</td>\n",
              "      <td>509790</td>\n",
              "      <td>ASSIGN</td>\n",
              "      <td>2100075890778834106</td>\n",
              "      <td>121.630558</td>\n",
              "      <td>39.140900</td>\n",
              "      <td>121.629930</td>\n",
              "      <td>39.144603</td>\n",
              "      <td>796.0</td>\n",
              "      <td>412.0</td>\n",
              "      <td>1776.0</td>\n",
              "      <td>13</td>\n",
              "    </tr>\n",
              "    <tr>\n",
              "      <th>1</th>\n",
              "      <td>10007871</td>\n",
              "      <td>2</td>\n",
              "      <td>2100075893538325690</td>\n",
              "      <td>121.630558</td>\n",
              "      <td>39.140900</td>\n",
              "      <td>20200228</td>\n",
              "      <td>20200228100078712</td>\n",
              "      <td>3</td>\n",
              "      <td>5.535851</td>\n",
              "      <td>11</td>\n",
              "      <td>正常天气</td>\n",
              "      <td>bf49288eb197bc6b44fa0573acf8c74d</td>\n",
              "      <td>34887bf8e1a0de848d271bc6b7059670</td>\n",
              "      <td>509791</td>\n",
              "      <td>PICKUP</td>\n",
              "      <td>2100075893538325690</td>\n",
              "      <td>121.629930</td>\n",
              "      <td>39.144603</td>\n",
              "      <td>121.629604</td>\n",
              "      <td>39.150661</td>\n",
              "      <td>1048.0</td>\n",
              "      <td>348.0</td>\n",
              "      <td>697.0</td>\n",
              "      <td>13</td>\n",
              "    </tr>\n",
              "    <tr>\n",
              "      <th>2</th>\n",
              "      <td>10007871</td>\n",
              "      <td>2</td>\n",
              "      <td>2100075890778834106</td>\n",
              "      <td>121.630558</td>\n",
              "      <td>39.140900</td>\n",
              "      <td>20200228</td>\n",
              "      <td>20200228100078712</td>\n",
              "      <td>3</td>\n",
              "      <td>5.535851</td>\n",
              "      <td>11</td>\n",
              "      <td>正常天气</td>\n",
              "      <td>9291e6fede798be58711cf53419eb285</td>\n",
              "      <td>34887bf8e1a0de848d271bc6b7059670</td>\n",
              "      <td>509792</td>\n",
              "      <td>DELIVERY</td>\n",
              "      <td>2100075893538325690</td>\n",
              "      <td>121.629604</td>\n",
              "      <td>39.150661</td>\n",
              "      <td>121.629930</td>\n",
              "      <td>39.144603</td>\n",
              "      <td>1019.0</td>\n",
              "      <td>171.0</td>\n",
              "      <td>1756.0</td>\n",
              "      <td>13</td>\n",
              "    </tr>\n",
              "    <tr>\n",
              "      <th>3</th>\n",
              "      <td>10007871</td>\n",
              "      <td>2</td>\n",
              "      <td>2100075890778834106</td>\n",
              "      <td>121.630558</td>\n",
              "      <td>39.140900</td>\n",
              "      <td>20200228</td>\n",
              "      <td>20200228100078712</td>\n",
              "      <td>3</td>\n",
              "      <td>5.535851</td>\n",
              "      <td>11</td>\n",
              "      <td>正常天气</td>\n",
              "      <td>9291e6fede798be58711cf53419eb285</td>\n",
              "      <td>34887bf8e1a0de848d271bc6b7059670</td>\n",
              "      <td>509793</td>\n",
              "      <td>PICKUP</td>\n",
              "      <td>2100075890778834106</td>\n",
              "      <td>121.629930</td>\n",
              "      <td>39.144603</td>\n",
              "      <td>121.630544</td>\n",
              "      <td>39.152711</td>\n",
              "      <td>1198.0</td>\n",
              "      <td>180.0</td>\n",
              "      <td>676.0</td>\n",
              "      <td>13</td>\n",
              "    </tr>\n",
              "    <tr>\n",
              "      <th>4</th>\n",
              "      <td>10007871</td>\n",
              "      <td>2</td>\n",
              "      <td>2100075893235123625</td>\n",
              "      <td>121.630558</td>\n",
              "      <td>39.140900</td>\n",
              "      <td>20200228</td>\n",
              "      <td>20200228100078712</td>\n",
              "      <td>3</td>\n",
              "      <td>5.535851</td>\n",
              "      <td>11</td>\n",
              "      <td>正常天气</td>\n",
              "      <td>4fdb588dc34ac31ce738a32696315b5d</td>\n",
              "      <td>5e65ed920db306852d16f1ec176011ed</td>\n",
              "      <td>509794</td>\n",
              "      <td>DELIVERY</td>\n",
              "      <td>2100075890778834106</td>\n",
              "      <td>121.630544</td>\n",
              "      <td>39.152711</td>\n",
              "      <td>121.631446</td>\n",
              "      <td>39.142762</td>\n",
              "      <td>1275.0</td>\n",
              "      <td>742.0</td>\n",
              "      <td>2336.0</td>\n",
              "      <td>14</td>\n",
              "    </tr>\n",
              "    <tr>\n",
              "      <th>...</th>\n",
              "      <td>...</td>\n",
              "      <td>...</td>\n",
              "      <td>...</td>\n",
              "      <td>...</td>\n",
              "      <td>...</td>\n",
              "      <td>...</td>\n",
              "      <td>...</td>\n",
              "      <td>...</td>\n",
              "      <td>...</td>\n",
              "      <td>...</td>\n",
              "      <td>...</td>\n",
              "      <td>...</td>\n",
              "      <td>...</td>\n",
              "      <td>...</td>\n",
              "      <td>...</td>\n",
              "      <td>...</td>\n",
              "      <td>...</td>\n",
              "      <td>...</td>\n",
              "      <td>...</td>\n",
              "      <td>...</td>\n",
              "      <td>...</td>\n",
              "      <td>...</td>\n",
              "      <td>...</td>\n",
              "      <td>...</td>\n",
              "    </tr>\n",
              "    <tr>\n",
              "      <th>25463</th>\n",
              "      <td>125996858</td>\n",
              "      <td>5</td>\n",
              "      <td>2100075920609773016</td>\n",
              "      <td>121.447895</td>\n",
              "      <td>39.210704</td>\n",
              "      <td>20200228</td>\n",
              "      <td>202002281259968585</td>\n",
              "      <td>3</td>\n",
              "      <td>5.681500</td>\n",
              "      <td>11</td>\n",
              "      <td>正常天气</td>\n",
              "      <td>d0674c5fd609d26c9164e98bd4c3dc29</td>\n",
              "      <td>86ba4e4a1dcc00e61b1d82ea394e4533</td>\n",
              "      <td>535067</td>\n",
              "      <td>DELIVERY</td>\n",
              "      <td>2100075919273624887</td>\n",
              "      <td>121.457034</td>\n",
              "      <td>39.217461</td>\n",
              "      <td>121.453294</td>\n",
              "      <td>39.214381</td>\n",
              "      <td>703.0</td>\n",
              "      <td>496.0</td>\n",
              "      <td>3872.0</td>\n",
              "      <td>19</td>\n",
              "    </tr>\n",
              "    <tr>\n",
              "      <th>25464</th>\n",
              "      <td>125996858</td>\n",
              "      <td>6</td>\n",
              "      <td>2100075927285073472</td>\n",
              "      <td>121.453580</td>\n",
              "      <td>39.205943</td>\n",
              "      <td>20200228</td>\n",
              "      <td>202002281259968586</td>\n",
              "      <td>3</td>\n",
              "      <td>5.681500</td>\n",
              "      <td>11</td>\n",
              "      <td>正常天气</td>\n",
              "      <td>d61d1ce18b53a55ed8729889ad16426a</td>\n",
              "      <td>cf304117a4b0eb083d47e55111bd4624</td>\n",
              "      <td>535068</td>\n",
              "      <td>ASSIGN</td>\n",
              "      <td>2100075928203953528</td>\n",
              "      <td>121.453580</td>\n",
              "      <td>39.205943</td>\n",
              "      <td>121.450119</td>\n",
              "      <td>39.209546</td>\n",
              "      <td>1297.0</td>\n",
              "      <td>1080.0</td>\n",
              "      <td>2043.0</td>\n",
              "      <td>19</td>\n",
              "    </tr>\n",
              "    <tr>\n",
              "      <th>25465</th>\n",
              "      <td>125996858</td>\n",
              "      <td>6</td>\n",
              "      <td>2100075927285073472</td>\n",
              "      <td>121.453580</td>\n",
              "      <td>39.205943</td>\n",
              "      <td>20200228</td>\n",
              "      <td>202002281259968586</td>\n",
              "      <td>3</td>\n",
              "      <td>5.681500</td>\n",
              "      <td>11</td>\n",
              "      <td>正常天气</td>\n",
              "      <td>d61d1ce18b53a55ed8729889ad16426a</td>\n",
              "      <td>cf304117a4b0eb083d47e55111bd4624</td>\n",
              "      <td>535069</td>\n",
              "      <td>PICKUP</td>\n",
              "      <td>2100075927285073472</td>\n",
              "      <td>121.450119</td>\n",
              "      <td>39.209546</td>\n",
              "      <td>121.450644</td>\n",
              "      <td>39.207601</td>\n",
              "      <td>233.0</td>\n",
              "      <td>158.0</td>\n",
              "      <td>1204.0</td>\n",
              "      <td>19</td>\n",
              "    </tr>\n",
              "    <tr>\n",
              "      <th>25466</th>\n",
              "      <td>125996858</td>\n",
              "      <td>6</td>\n",
              "      <td>2100075928203953528</td>\n",
              "      <td>121.453580</td>\n",
              "      <td>39.205943</td>\n",
              "      <td>20200228</td>\n",
              "      <td>202002281259968586</td>\n",
              "      <td>3</td>\n",
              "      <td>5.681500</td>\n",
              "      <td>11</td>\n",
              "      <td>正常天气</td>\n",
              "      <td>86e50587e1ba446bc427c687f8593606</td>\n",
              "      <td>2626cd2412b5a56fe7665ee8aeb86f98</td>\n",
              "      <td>535070</td>\n",
              "      <td>DELIVERY</td>\n",
              "      <td>2100075927285073472</td>\n",
              "      <td>121.450644</td>\n",
              "      <td>39.207601</td>\n",
              "      <td>121.452471</td>\n",
              "      <td>39.209303</td>\n",
              "      <td>720.0</td>\n",
              "      <td>291.0</td>\n",
              "      <td>2948.0</td>\n",
              "      <td>19</td>\n",
              "    </tr>\n",
              "    <tr>\n",
              "      <th>25467</th>\n",
              "      <td>125996858</td>\n",
              "      <td>6</td>\n",
              "      <td>2100075928203953528</td>\n",
              "      <td>121.453580</td>\n",
              "      <td>39.205943</td>\n",
              "      <td>20200228</td>\n",
              "      <td>202002281259968586</td>\n",
              "      <td>3</td>\n",
              "      <td>5.681500</td>\n",
              "      <td>11</td>\n",
              "      <td>正常天气</td>\n",
              "      <td>86e50587e1ba446bc427c687f8593606</td>\n",
              "      <td>2626cd2412b5a56fe7665ee8aeb86f98</td>\n",
              "      <td>535071</td>\n",
              "      <td>PICKUP</td>\n",
              "      <td>2100075928203953528</td>\n",
              "      <td>121.452471</td>\n",
              "      <td>39.209303</td>\n",
              "      <td>121.451934</td>\n",
              "      <td>39.197651</td>\n",
              "      <td>2887.0</td>\n",
              "      <td>423.0</td>\n",
              "      <td>971.0</td>\n",
              "      <td>20</td>\n",
              "    </tr>\n",
              "  </tbody>\n",
              "</table>\n",
              "<p>25468 rows × 24 columns</p>\n",
              "</div>"
            ],
            "text/plain": [
              "       courier_id  wave_index  ...  urgency  hour\n",
              "0        10007871           2  ...   1776.0    13\n",
              "1        10007871           2  ...    697.0    13\n",
              "2        10007871           2  ...   1756.0    13\n",
              "3        10007871           2  ...    676.0    13\n",
              "4        10007871           2  ...   2336.0    14\n",
              "...           ...         ...  ...      ...   ...\n",
              "25463   125996858           5  ...   3872.0    19\n",
              "25464   125996858           6  ...   2043.0    19\n",
              "25465   125996858           6  ...   1204.0    19\n",
              "25466   125996858           6  ...   2948.0    19\n",
              "25467   125996858           6  ...    971.0    20\n",
              "\n",
              "[25468 rows x 24 columns]"
            ]
          },
          "metadata": {
            "tags": []
          },
          "execution_count": 13
        }
      ]
    },
    {
      "cell_type": "code",
      "metadata": {
        "id": "emXVOJk1M_lF",
        "colab": {
          "base_uri": "https://localhost:8080/",
          "height": 137
        },
        "outputId": "939c9baf-2ebc-45f2-985b-eb4fa5d951dc"
      },
      "source": [
        "#transform action_type, weather_grade and source_type into numbers\n",
        "for i in range(509604):\n",
        "    if  data_train['weather_grade'][i] == '正常天气':\n",
        "        data_train['weather_grade'][i] = 1\n",
        "    elif data_train['weather_grade'][i] == '轻微恶劣天气':\n",
        "        data_train['weather_grade'][i] = 2\n",
        "    elif data_train['weather_grade'][i] == '恶劣天气':\n",
        "        data_train['weather_grade'][i] = 3\n",
        "    else:\n",
        "        data_train['weather_grade'][i] = 4\n",
        "\n",
        "    if data_train['action_type'][i] == 'PICKUP':\n",
        "        data_train['action_type'][i] = 0 \n",
        "    else:\n",
        "        data_train['action_type'][i] = 1\n",
        "\n",
        "    if data_train['source_type'][i] == 'PICKUP':\n",
        "        data_train['source_type'][i] = 0 \n",
        "    else:\n",
        "        data_train['source_type'][i] = 1\n",
        "\n",
        "    if i%10000 == 0:\n",
        "        print(i)\n",
        "\n",
        "data_train"
      ],
      "execution_count": null,
      "outputs": [
        {
          "output_type": "execute_result",
          "data": {
            "application/vnd.google.colaboratory.intrinsic+json": {
              "type": "string"
            },
            "text/plain": [
              "\"for i in range(509604):\\n    if  data_train['weather_grade'][i] == '正常天气':\\n        data_train['weather_grade'][i] = 1\\n    elif data_train['weather_grade'][i] == '轻微恶劣天气':\\n        data_train['weather_grade'][i] = 2\\n    elif data_train['weather_grade'][i] == '恶劣天气':\\n        data_train['weather_grade'][i] = 3\\n    else:\\n        data_train['weather_grade'][i] = 4\\n\\n    if data_train['action_type'][i] == 'PICKUP':\\n        data_train['action_type'][i] = 0 \\n    else:\\n        data_train['action_type'][i] = 1\\n\\n    if data_train['source_type'][i] == 'PICKUP':\\n        data_train['source_type'][i] = 0 \\n    else:\\n        data_train['source_type'][i] = 1\\n\\n    if i%10000 == 0:\\n        print(i)\\n\\ndata_train\""
            ]
          },
          "metadata": {
            "tags": []
          },
          "execution_count": 14
        }
      ]
    },
    {
      "cell_type": "code",
      "metadata": {
        "id": "bgOta0zUwISy",
        "colab": {
          "base_uri": "https://localhost:8080/",
          "height": 103
        },
        "outputId": "989aaf75-6d73-4ec3-f9d7-c784ff69b14b"
      },
      "source": [
        "#transform action_type, weather_grade and source_type into numbers\n",
        "'''for i in range(25468):\n",
        "    if  data_test['weather_grade'][i] == '正常天气':\n",
        "        data_test['weather_grade'][i] = 1\n",
        "    elif data_test['weather_grade'][i] == '轻微恶劣天气':\n",
        "        data_test['weather_grade'][i] = 2\n",
        "    elif data_test['weather_grade'][i] == '恶劣天气':\n",
        "        data_test['weather_grade'][i] = 3\n",
        "    else:\n",
        "        data_test['weather_grade'][i] = 4\n",
        "\n",
        "    if data_test['source_type'][i] == 'PICKUP':\n",
        "        data_test['source_type'][i] = 0 \n",
        "    else:\n",
        "        data_test['source_type'][i] = 1\n",
        "\n",
        "    if i%10000 == 0:\n",
        "        print(i)\n",
        "\n",
        "data_test'''"
      ],
      "execution_count": null,
      "outputs": [
        {
          "output_type": "execute_result",
          "data": {
            "application/vnd.google.colaboratory.intrinsic+json": {
              "type": "string"
            },
            "text/plain": [
              "\"for i in range(25468):\\n    if  data_test['weather_grade'][i] == '正常天气':\\n        data_test['weather_grade'][i] = 1\\n    elif data_test['weather_grade'][i] == '轻微恶劣天气':\\n        data_test['weather_grade'][i] = 2\\n    elif data_test['weather_grade'][i] == '恶劣天气':\\n        data_test['weather_grade'][i] = 3\\n    else:\\n        data_test['weather_grade'][i] = 4\\n\\n    if data_test['source_type'][i] == 'PICKUP':\\n        data_test['source_type'][i] = 0 \\n    else:\\n        data_test['source_type'][i] = 1\\n\\n    if i%10000 == 0:\\n        print(i)\\n\\ndata_test\""
            ]
          },
          "metadata": {
            "tags": []
          },
          "execution_count": 15
        }
      ]
    },
    {
      "cell_type": "code",
      "metadata": {
        "id": "ttPGE7m-bBFC"
      },
      "source": [
        "data_train = pd.read_csv('data_train.csv')\n",
        "data_test = pd.read_csv('data_test.csv')"
      ],
      "execution_count": null,
      "outputs": []
    },
    {
      "cell_type": "markdown",
      "metadata": {
        "id": "D3A29Iibwl4f"
      },
      "source": [
        "Among regression methods, we use linear regression and PCA to select columes. As for classification method, we tried logestic regression, KNN and CART to analyze the data. Moreover, we also tried other method like XGBoost and Random Forest to make predictions.\n",
        "\n",
        "\n",
        "\n",
        "**Regression**\n",
        "\n",
        "**linear Regression**\n",
        "\n",
        "The first method we tried was linear regression, the simplest method. Since a courier can have many orders at the same time, it means that there are several possibilities for the courier to choose, each has a different task and location. The connections between variables and target variavle are comlicated and unconspicuous. \n",
        "\n",
        "To intergrate the useful information 解释各个or列举变量的作用，本来打算直接舍弃。。。，但觉得然后我们就觉得有用，无法割舍就都放进去了，但结果不是很理想"
      ]
    },
    {
      "cell_type": "code",
      "metadata": {
        "id": "xKS6lTdJlJk0",
        "colab": {
          "base_uri": "https://localhost:8080/",
          "height": 139
        },
        "outputId": "8c2af475-c93b-42a1-dd9c-2604072afe19"
      },
      "source": [
        "#linear regression baseline\n",
        "data_train['predict_time'] = 0\n",
        "data_train = data_train.reset_index()\n",
        "\n",
        "#use distance/time to predict baseline predict time\n",
        "for i in range(509604):\n",
        "  data_train['predict_time'][i] = data_train['grid_distance'][i] / data_train['speed'][i]\n",
        "\n",
        "y_predict = data_train['predict_time']\n",
        "y_actual = data_train['expected_use_time']\n",
        "\n",
        "mae_test_baseline = np.sum(np.absolute(y_predict-y_actual))/len(y_actual)\n",
        "mae_test_baseline"
      ],
      "execution_count": null,
      "outputs": [
        {
          "output_type": "stream",
          "text": [
            "/usr/local/lib/python3.6/dist-packages/ipykernel_launcher.py:7: SettingWithCopyWarning: \n",
            "A value is trying to be set on a copy of a slice from a DataFrame\n",
            "\n",
            "See the caveats in the documentation: https://pandas.pydata.org/pandas-docs/stable/user_guide/indexing.html#returning-a-view-versus-a-copy\n",
            "  import sys\n"
          ],
          "name": "stderr"
        },
        {
          "output_type": "execute_result",
          "data": {
            "text/plain": [
              "265.6089434148869"
            ]
          },
          "metadata": {
            "tags": []
          },
          "execution_count": 11
        }
      ]
    },
    {
      "cell_type": "code",
      "metadata": {
        "id": "tNVQPaBrdHFe"
      },
      "source": [
        "from sklearn.model_selection import train_test_split\n",
        "from sklearn.metrics import accuracy_score\n",
        "#split \n",
        "x = data_train[['speed', 'max_load', 'source_type', 'grid_distance', 'hour', 'source_lat']]\n",
        "y = data_train[['expected_use_time']]\n",
        "X_train, X_validate, y_train, y_validate = train_test_split(x,y, test_size = 0.25)"
      ],
      "execution_count": null,
      "outputs": []
    },
    {
      "cell_type": "code",
      "metadata": {
        "id": "4b3b25B8w5eM"
      },
      "source": [
        "#split test data\n",
        "x_test = data_test[['speed', 'max_load', 'source_type', 'grid_distance', 'hour', 'source_lat']]"
      ],
      "execution_count": null,
      "outputs": []
    },
    {
      "cell_type": "markdown",
      "metadata": {
        "id": "MpCLGFng7Iu3"
      },
      "source": [
        "However, by feeding everything to the linear regression model and letting it return a prediction, the outcome was not satisfying.\n",
        "\n",
        "Using the MAE function, we got a loss of 259 for expected time and almost no accuracy for the action type prediction."
      ]
    },
    {
      "cell_type": "code",
      "metadata": {
        "id": "k6D0F6IrfkoM",
        "colab": {
          "base_uri": "https://localhost:8080/",
          "height": 904
        },
        "outputId": "2dd2d28a-ae97-4d4e-b5ac-6c3423e3890d"
      },
      "source": [
        "from sklearn.preprocessing import StandardScaler\n",
        "scaler = StandardScaler()\n",
        "scaler.fit(x)\n",
        "X_standardized = scaler.transform(x)\n",
        "for i in range(15):\n",
        "  from sklearn import datasets, linear_model\n",
        "  lasso = linear_model.Lasso(alpha=i)\n",
        "  lasso.fit(X_standardized,y)\n",
        "  print(i)\n",
        "  print(lasso.coef_)"
      ],
      "execution_count": null,
      "outputs": [
        {
          "output_type": "stream",
          "text": [
            "/usr/local/lib/python3.6/dist-packages/ipykernel_launcher.py:8: UserWarning: With alpha=0, this algorithm does not converge well. You are advised to use the LinearRegression estimator\n",
            "  \n",
            "/usr/local/lib/python3.6/dist-packages/sklearn/linear_model/_coordinate_descent.py:476: UserWarning: Coordinate descent with no regularization may lead to unexpected results and is discouraged.\n",
            "  positive)\n",
            "/usr/local/lib/python3.6/dist-packages/sklearn/linear_model/_coordinate_descent.py:476: ConvergenceWarning: Objective did not converge. You might want to increase the number of iterations. Duality gap: 34982279484.21115, tolerance: 8362098.174090022\n",
            "  positive)\n"
          ],
          "name": "stderr"
        },
        {
          "output_type": "stream",
          "text": [
            "0\n",
            "[-19.3668555   -6.11081758 117.71407501 117.67821116   3.59195377\n",
            "  -2.75995597]\n",
            "1\n",
            "[-18.41693498  -5.16357963 116.66454625 116.6845346    2.62327338\n",
            "  -1.93946777]\n",
            "2\n",
            "[-17.46700229  -4.21633333 115.61501845 115.69085872   1.65459199\n",
            "  -1.1189812 ]\n",
            "3\n",
            "[-16.51706961  -3.26908703 114.56549066 114.69718285   0.68591059\n",
            "  -0.29849463]\n",
            "4\n",
            "[-15.52861724  -2.27900105 113.51479351 113.68585008   0.\n",
            "  -0.        ]\n",
            "5\n",
            "[-14.51751238  -1.27333392 112.46144377 112.64601465   0.\n",
            "  -0.        ]\n",
            "6\n",
            "[-13.50640753  -0.26766679 111.40809403 111.60617923   0.\n",
            "  -0.        ]\n",
            "7\n",
            "[-12.50683835  -0.         110.35437318 110.55911      0.\n",
            "  -0.        ]\n",
            "8\n",
            "[-11.51145328  -0.         109.3005177  109.50941711   0.\n",
            "  -0.        ]\n",
            "9\n",
            "[-10.51606822  -0.         108.24666222 108.45972423   0.\n",
            "  -0.        ]\n",
            "10\n",
            "[ -9.52068315  -0.         107.19280673 107.41003135   0.\n",
            "  -0.        ]\n",
            "11\n",
            "[ -8.52529809  -0.         106.13895124 106.36033847   0.\n",
            "  -0.        ]\n",
            "12\n",
            "[ -7.52991302  -0.         105.08509576 105.31064559   0.\n",
            "  -0.        ]\n",
            "13\n",
            "[ -6.53452795  -0.         104.03124027 104.26095271   0.\n",
            "  -0.        ]\n",
            "14\n",
            "[ -5.53914289  -0.         102.97738479 103.21125982   0.\n",
            "  -0.        ]\n"
          ],
          "name": "stdout"
        }
      ]
    },
    {
      "cell_type": "code",
      "metadata": {
        "id": "ugWpIYt-dvDb",
        "colab": {
          "base_uri": "https://localhost:8080/",
          "height": 51
        },
        "outputId": "65a6c0ad-8528-4e1d-fd30-59fa48b41880"
      },
      "source": [
        "from sklearn.linear_model import LinearRegression\n",
        "lm = LinearRegression()\n",
        "X_train_array = np.array(X_train)\n",
        "y_train_array = np.array(y_train)\n",
        "X_validate_array = np.array(X_validate)\n",
        "y_validate_array = np.array(y_validate)\n",
        "model = lm.fit(X_train_array, y_train_array)\n",
        "y_pred1 = model.predict(X_validate_array)\n",
        "\n",
        "mae_test1 = np.sum(np.absolute(y_pred1-y_validate))/len(y_validate)\n",
        "print(mae_test1)"
      ],
      "execution_count": null,
      "outputs": [
        {
          "output_type": "stream",
          "text": [
            "expected_use_time    248.722984\n",
            "dtype: float64\n"
          ],
          "name": "stdout"
        }
      ]
    },
    {
      "cell_type": "code",
      "metadata": {
        "id": "qAI1ozKyq8vD"
      },
      "source": [
        "from sklearn.linear_model import LinearRegression\n",
        "lm = LinearRegression()\n",
        "X_array = np.array(x)\n",
        "y_array = np.array(y)\n",
        "model = lm.fit(X_array, y_array)\n",
        "y_pred = model.predict(np.array(x_test))"
      ],
      "execution_count": null,
      "outputs": []
    },
    {
      "cell_type": "code",
      "metadata": {
        "id": "GN61fDrqqzSb"
      },
      "source": [
        "sample = pd.read_csv('regression_sample.csv')\n",
        "sample = pd.read_csv('regression_sample.csv')\n",
        "sample['y_pred'] = y_pred\n",
        "sample.to_csv('lasso_lm.csv')"
      ],
      "execution_count": null,
      "outputs": []
    },
    {
      "cell_type": "markdown",
      "metadata": {
        "id": "kOhhwHfp7kq-"
      },
      "source": [
        "We find the outcome unsatisfying, we guess the features might contains dependent variables and there might have some unnecessary variables that is affecting the outcome. Then we tried to use PCA to select the significant features."
      ]
    },
    {
      "cell_type": "code",
      "metadata": {
        "id": "H_xKlFR_d0gn",
        "colab": {
          "base_uri": "https://localhost:8080/",
          "height": 282
        },
        "outputId": "518ac714-eca8-459b-957d-3cae23ec1db4"
      },
      "source": [
        "#PCA to select columes\n",
        "from sklearn.decomposition import PCA\n",
        "from sklearn.pipeline import make_pipeline\n",
        "from sklearn.preprocessing import StandardScaler\n",
        "pca_scaled = make_pipeline(StandardScaler(),PCA(n_components = 10))\n",
        "X_pca = pca_scaled.fit_transform(X_train)\n",
        "components = pca_scaled.named_steps['pca'].components_\n",
        "a,b = plt.subplots()\n",
        "\n",
        "plt.imshow(components.T)\n",
        "plt.yticks(range(len(X_train.columns)),X_train.columns)\n",
        "plt.colorbar()"
      ],
      "execution_count": null,
      "outputs": [
        {
          "output_type": "execute_result",
          "data": {
            "text/plain": [
              "<matplotlib.colorbar.Colorbar at 0x7effb705a710>"
            ]
          },
          "metadata": {
            "tags": []
          },
          "execution_count": 31
        },
        {
          "output_type": "display_data",
          "data": {
            "image/png": "[encoded data removed]",
            "text/plain": [
              "<Figure size 432x288 with 2 Axes>"
            ]
          },
          "metadata": {
            "tags": [],
            "needs_background": "light"
          }
        }
      ]
    },
    {
      "cell_type": "code",
      "metadata": {
        "id": "QA_VW8va1_4T",
        "colab": {
          "base_uri": "https://localhost:8080/",
          "height": 527
        },
        "outputId": "50795146-c7eb-42b9-f1dc-af69b1579876"
      },
      "source": [
        "#linear Regression\n",
        "col_sig = data_train[['source_type','speed','max_load','weather_grade','grid_distance','urgency','expected_use_time','hour']]\n",
        "\n",
        "reg = smf.ols('expected_use_time ~ source_type + weather_grade + grid_distance + urgency',data=col_sig).fit()\n",
        "print(reg.summary())"
      ],
      "execution_count": null,
      "outputs": [
        {
          "output_type": "stream",
          "text": [
            "                            OLS Regression Results                            \n",
            "==============================================================================\n",
            "Dep. Variable:      expected_use_time   R-squared:                       0.162\n",
            "Model:                            OLS   Adj. R-squared:                  0.162\n",
            "Method:                 Least Squares   F-statistic:                 2.460e+04\n",
            "Date:                Tue, 11 Aug 2020   Prob (F-statistic):               0.00\n",
            "Time:                        08:53:57   Log-Likelihood:            -3.7378e+06\n",
            "No. Observations:              509604   AIC:                         7.476e+06\n",
            "Df Residuals:                  509599   BIC:                         7.476e+06\n",
            "Df Model:                           4                                         \n",
            "Covariance Type:            nonrobust                                         \n",
            "=================================================================================\n",
            "                    coef    std err          t      P>|t|      [0.025      0.975]\n",
            "---------------------------------------------------------------------------------\n",
            "Intercept       190.9698      1.185    161.165      0.000     188.647     193.292\n",
            "source_type     232.6906      1.097    212.034      0.000     230.540     234.841\n",
            "weather_grade    13.1465      0.513     25.651      0.000      12.142      14.151\n",
            "grid_distance     0.1048      0.000    226.549      0.000       0.104       0.106\n",
            "urgency           0.0010      0.000      7.965      0.000       0.001       0.001\n",
            "==============================================================================\n",
            "Omnibus:                   284999.559   Durbin-Watson:                   2.107\n",
            "Prob(Omnibus):                  0.000   Jarque-Bera (JB):       4032226416.910\n",
            "Skew:                          -0.730   Prob(JB):                         0.00\n",
            "Kurtosis:                     438.772   Cond. No.                     1.24e+04\n",
            "==============================================================================\n",
            "\n",
            "Warnings:\n",
            "[1] Standard Errors assume that the covariance matrix of the errors is correctly specified.\n",
            "[2] The condition number is large, 1.24e+04. This might indicate that there are\n",
            "strong multicollinearity or other numerical problems.\n"
          ],
          "name": "stdout"
        }
      ]
    },
    {
      "cell_type": "code",
      "metadata": {
        "id": "A83Sxa15dhir"
      },
      "source": [
        "reg.rsquared"
      ],
      "execution_count": null,
      "outputs": []
    },
    {
      "cell_type": "code",
      "metadata": {
        "id": "6ibnTwEbeEGp"
      },
      "source": [
        "from sklearn.linear_model import LinearRegression\n",
        "lm = LinearRegression()\n",
        "model1 = lm.fit(X_train[['source_type','speed','max_load','weather_grade','grid_distance','urgency']], y_train)\n",
        "y_pred1 = lm.predict(X_validate[['source_type','speed','max_load','weather_grade','grid_distance','urgency']])\n",
        "mae_test1 = np.sum(np.absolute(y_pred1-y_validate))/len(y_validate)\n",
        "print(mae_test1)\n",
        "\n",
        "print(model1.score(X_validate[['source_type','speed','max_load','weather_grade','grid_distance','urgency']],y_validate))"
      ],
      "execution_count": null,
      "outputs": []
    },
    {
      "cell_type": "markdown",
      "metadata": {
        "id": "gIt5MryAj_9P"
      },
      "source": [
        "**Ridge**"
      ]
    },
    {
      "cell_type": "code",
      "metadata": {
        "id": "U1mFfwrGkGTr",
        "colab": {
          "base_uri": "https://localhost:8080/",
          "height": 51
        },
        "outputId": "88defa15-0554-4dbc-c995-c27c9786a587"
      },
      "source": [
        "from sklearn import datasets, linear_model\n",
        "ridge_reg = linear_model.Ridge()\n",
        "ridge_reg.fit(X_train,y_train)\n",
        "y_pred = ridge_reg.predict(X_validate)\n",
        "mae = np.sum(np.absolute(y_pred-y_validate))/len(y_pred)\n",
        "print(mae)"
      ],
      "execution_count": null,
      "outputs": [
        {
          "output_type": "stream",
          "text": [
            "expected_use_time    247.929344\n",
            "dtype: float64\n"
          ],
          "name": "stdout"
        }
      ]
    },
    {
      "cell_type": "code",
      "metadata": {
        "id": "ebh2L8SQ1QdB"
      },
      "source": [
        "ridge_reg = linear_model.Ridge()\n",
        "ridge_reg.fit(x,y)\n",
        "y_test_pred = ridge_reg.predict(x_test)"
      ],
      "execution_count": null,
      "outputs": []
    },
    {
      "cell_type": "code",
      "metadata": {
        "id": "fPKp00PV3UXW",
        "colab": {
          "base_uri": "https://localhost:8080/",
          "height": 419
        },
        "outputId": "68a35f9e-8d56-46bf-89f1-a253e5c2eaa7"
      },
      "source": [
        "sample = pd.read_csv('regression_sample.csv')\n",
        "sample"
      ],
      "execution_count": null,
      "outputs": [
        {
          "output_type": "execute_result",
          "data": {
            "text/html": [
              "<div>\n",
              "<style scoped>\n",
              "    .dataframe tbody tr th:only-of-type {\n",
              "        vertical-align: middle;\n",
              "    }\n",
              "\n",
              "    .dataframe tbody tr th {\n",
              "        vertical-align: top;\n",
              "    }\n",
              "\n",
              "    .dataframe thead th {\n",
              "        text-align: right;\n",
              "    }\n",
              "</style>\n",
              "<table border=\"1\" class=\"dataframe\">\n",
              "  <thead>\n",
              "    <tr style=\"text-align: right;\">\n",
              "      <th></th>\n",
              "      <th>order</th>\n",
              "      <th>y_pred</th>\n",
              "    </tr>\n",
              "  </thead>\n",
              "  <tbody>\n",
              "    <tr>\n",
              "      <th>0</th>\n",
              "      <td>0</td>\n",
              "      <td>843.1449</td>\n",
              "    </tr>\n",
              "    <tr>\n",
              "      <th>1</th>\n",
              "      <td>1</td>\n",
              "      <td>1015.1318</td>\n",
              "    </tr>\n",
              "    <tr>\n",
              "      <th>2</th>\n",
              "      <td>2</td>\n",
              "      <td>843.1449</td>\n",
              "    </tr>\n",
              "    <tr>\n",
              "      <th>3</th>\n",
              "      <td>3</td>\n",
              "      <td>1045.0840</td>\n",
              "    </tr>\n",
              "    <tr>\n",
              "      <th>4</th>\n",
              "      <td>4</td>\n",
              "      <td>988.3464</td>\n",
              "    </tr>\n",
              "    <tr>\n",
              "      <th>...</th>\n",
              "      <td>...</td>\n",
              "      <td>...</td>\n",
              "    </tr>\n",
              "    <tr>\n",
              "      <th>25463</th>\n",
              "      <td>25463</td>\n",
              "      <td>1468.9363</td>\n",
              "    </tr>\n",
              "    <tr>\n",
              "      <th>25464</th>\n",
              "      <td>25464</td>\n",
              "      <td>961.2105</td>\n",
              "    </tr>\n",
              "    <tr>\n",
              "      <th>25465</th>\n",
              "      <td>25465</td>\n",
              "      <td>1020.9698</td>\n",
              "    </tr>\n",
              "    <tr>\n",
              "      <th>25466</th>\n",
              "      <td>25466</td>\n",
              "      <td>861.9515</td>\n",
              "    </tr>\n",
              "    <tr>\n",
              "      <th>25467</th>\n",
              "      <td>25467</td>\n",
              "      <td>1612.7882</td>\n",
              "    </tr>\n",
              "  </tbody>\n",
              "</table>\n",
              "<p>25468 rows × 2 columns</p>\n",
              "</div>"
            ],
            "text/plain": [
              "       order     y_pred\n",
              "0          0   843.1449\n",
              "1          1  1015.1318\n",
              "2          2   843.1449\n",
              "3          3  1045.0840\n",
              "4          4   988.3464\n",
              "...      ...        ...\n",
              "25463  25463  1468.9363\n",
              "25464  25464   961.2105\n",
              "25465  25465  1020.9698\n",
              "25466  25466   861.9515\n",
              "25467  25467  1612.7882\n",
              "\n",
              "[25468 rows x 2 columns]"
            ]
          },
          "metadata": {
            "tags": []
          },
          "execution_count": 34
        }
      ]
    },
    {
      "cell_type": "code",
      "metadata": {
        "id": "jj1biLJx1uIR"
      },
      "source": [
        "sample['y_pred'] = y_test_pred\n",
        "sample.to_csv('ridge_[red2.csv')"
      ],
      "execution_count": null,
      "outputs": []
    },
    {
      "cell_type": "markdown",
      "metadata": {
        "id": "cDw3zl5yvK8C"
      },
      "source": [
        "**XGBoost**"
      ]
    },
    {
      "cell_type": "code",
      "metadata": {
        "id": "9sbtm1yvvK8D",
        "colab": {
          "base_uri": "https://localhost:8080/",
          "height": 34
        },
        "outputId": "122bc142-3b04-45ee-a246-e9de0474e2ce"
      },
      "source": [
        "import xgboost as xgb\n",
        "from numpy import loadtxt\n",
        "#from xgboost import XGBClassifier\n",
        "from sklearn.metrics import mean_absolute_error\n",
        "\n",
        "xg_reg = xgb.XGBRegressor(objective ='reg:squarederror', colsample_bytree = 0.3, learning_rate = 0.1,\n",
        "                max_depth = 5, alpha = 10, n_estimators = 50)\n",
        "xg_reg.fit(np.array(X_train[['weather_grade','source_type', 'grid_distance', 'urgency']]),y_train_array)\n",
        "\n",
        "preds = xg_reg.predict(np.array(X_validate[['weather_grade','source_type', 'grid_distance', 'urgency']]))\n",
        "mae = mean_absolute_error(y_validate, preds)\n",
        "print(mae)"
      ],
      "execution_count": null,
      "outputs": [
        {
          "output_type": "stream",
          "text": [
            "438.8782057453327\n"
          ],
          "name": "stdout"
        }
      ]
    },
    {
      "cell_type": "code",
      "metadata": {
        "id": "tbZ4KRe5i0uZ"
      },
      "source": [
        "y_test_pred_2 = xg_reg.predict(np.array(x_test[['source_type','speed','max_load','weather_grade','grid_distance','urgency']]))"
      ],
      "execution_count": null,
      "outputs": []
    },
    {
      "cell_type": "code",
      "metadata": {
        "id": "8kEu3MEFjlm2"
      },
      "source": [
        "sample = pd.read_csv('regression_sample.csv')\n",
        "sample['y_pred'] = y_test_pred\n",
        "sample"
      ],
      "execution_count": null,
      "outputs": []
    },
    {
      "cell_type": "code",
      "metadata": {
        "id": "NZXV5dwelHVz"
      },
      "source": [
        "sample.to_csv('XGBoost_predict2.csv')"
      ],
      "execution_count": null,
      "outputs": []
    },
    {
      "cell_type": "markdown",
      "metadata": {
        "id": "6G0xS7eI_GAr"
      },
      "source": [
        "**Classification**\n",
        "\n",
        "**Logestic Regression**\n",
        "\n",
        "**Baseline**"
      ]
    },
    {
      "cell_type": "code",
      "metadata": {
        "id": "IXsh9Rpmd3Pc"
      },
      "source": [
        "#split the table for classification\n",
        "from sklearn.model_selection import train_test_split\n",
        "x = data_train[['courier_id', 'wave_index', 'tracking_id',\n",
        "       'courier_wave_start_lng', 'courier_wave_start_lat',\n",
        "       'date', 'group', 'level', 'speed', 'max_load', 'weather_grade',\n",
        "       'id', 'source_type', 'source_tracking_id',\n",
        "       'source_lng', 'source_lat', 'target_lng', 'target_lat', 'grid_distance', \n",
        "       'urgency', 'hour']]\n",
        "y = data_train[['action_type']]\n",
        "X_train, X_validate, y_train, y_validate = train_test_split(x,y, test_size = 0.25)"
      ],
      "execution_count": null,
      "outputs": []
    },
    {
      "cell_type": "code",
      "metadata": {
        "id": "WcQlliOuM6Qw",
        "colab": {
          "base_uri": "https://localhost:8080/",
          "height": 224
        },
        "outputId": "e1069adb-b862-455c-8928-4788e3e33bc5"
      },
      "source": [
        "#baseline: predict opposite action from source action type(if Assign, predict Pickup[0])\n",
        "X_validate['y_pred'] = 0\n",
        "X_validate = X_validate.reset_index()\n",
        "\n",
        "for i in range(127401):\n",
        "    X_validate['y_pred'][i] = 1 - X_validate['source_type'][i]"
      ],
      "execution_count": null,
      "outputs": [
        {
          "output_type": "stream",
          "text": [
            "/usr/local/lib/python3.6/dist-packages/ipykernel_launcher.py:2: SettingWithCopyWarning: \n",
            "A value is trying to be set on a copy of a slice from a DataFrame.\n",
            "Try using .loc[row_indexer,col_indexer] = value instead\n",
            "\n",
            "See the caveats in the documentation: https://pandas.pydata.org/pandas-docs/stable/user_guide/indexing.html#returning-a-view-versus-a-copy\n",
            "  \n",
            "/usr/local/lib/python3.6/dist-packages/ipykernel_launcher.py:6: SettingWithCopyWarning: \n",
            "A value is trying to be set on a copy of a slice from a DataFrame\n",
            "\n",
            "See the caveats in the documentation: https://pandas.pydata.org/pandas-docs/stable/user_guide/indexing.html#returning-a-view-versus-a-copy\n",
            "  \n"
          ],
          "name": "stderr"
        }
      ]
    },
    {
      "cell_type": "code",
      "metadata": {
        "id": "Z7wjkr5gONZX",
        "colab": {
          "base_uri": "https://localhost:8080/",
          "height": 68
        },
        "outputId": "d5628b97-57be-401a-f853-90208f662697"
      },
      "source": [
        "from sklearn.metrics import confusion_matrix\n",
        "from sklearn.metrics import accuracy_score\n",
        "CM_baseline = confusion_matrix(y_validate.astype('int'), X_validate['y_pred'])\n",
        "print(CM_baseline)\n",
        "\n",
        "print(accuracy_score(y_validate.astype('int'), X_validate['y_pred']))"
      ],
      "execution_count": null,
      "outputs": [
        {
          "output_type": "stream",
          "text": [
            "[[37952 25689]\n",
            " [25652 38108]]\n",
            "0.5970125823188202\n"
          ],
          "name": "stdout"
        }
      ]
    },
    {
      "cell_type": "code",
      "metadata": {
        "id": "kKYoJ49GrKBe",
        "colab": {
          "base_uri": "https://localhost:8080/",
          "height": 156
        },
        "outputId": "825a1e30-d0c3-4ef3-bcbf-87aced76b812"
      },
      "source": [
        "#logestic Regression\n",
        "from sklearn import datasets, linear_model\n",
        "logistic_model = linear_model.LogisticRegression()\n",
        "logistic_model.fit(X_train[['weather_grade','source_type', 'grid_distance', 'urgency']],y_train.astype('int'))"
      ],
      "execution_count": null,
      "outputs": [
        {
          "output_type": "stream",
          "text": [
            "/usr/local/lib/python3.6/dist-packages/sklearn/utils/validation.py:760: DataConversionWarning: A column-vector y was passed when a 1d array was expected. Please change the shape of y to (n_samples, ), for example using ravel().\n",
            "  y = column_or_1d(y, warn=True)\n"
          ],
          "name": "stderr"
        },
        {
          "output_type": "execute_result",
          "data": {
            "text/plain": [
              "LogisticRegression(C=1.0, class_weight=None, dual=False, fit_intercept=True,\n",
              "                   intercept_scaling=1, l1_ratio=None, max_iter=100,\n",
              "                   multi_class='auto', n_jobs=None, penalty='l2',\n",
              "                   random_state=None, solver='lbfgs', tol=0.0001, verbose=0,\n",
              "                   warm_start=False)"
            ]
          },
          "metadata": {
            "tags": []
          },
          "execution_count": 54
        }
      ]
    },
    {
      "cell_type": "code",
      "metadata": {
        "id": "n3UDs7DTsvl1",
        "colab": {
          "base_uri": "https://localhost:8080/",
          "height": 136
        },
        "outputId": "bfcc13a8-664d-4c79-c3cc-c18a4fc12d00"
      },
      "source": [
        "from sklearn.metrics import roc_curve, auc\n",
        "#x_validate1 = x_validate1.drop(columns = ['index','y_pred'])\n",
        "y1r_pred = logistic_model.predict(X_validate[['weather_grade','source_type', 'grid_distance', 'urgency']])\n",
        "y1r_pred_prob = logistic_model.predict_proba(X_validate[['weather_grade','source_type', 'grid_distance', 'urgency']])\n",
        "y1r_pred_prob[0,0]  \n",
        "y1r_pred_prob"
      ],
      "execution_count": null,
      "outputs": [
        {
          "output_type": "execute_result",
          "data": {
            "text/plain": [
              "array([[0.56031225, 0.43968775],\n",
              "       [0.24852241, 0.75147759],\n",
              "       [0.41663322, 0.58336678],\n",
              "       ...,\n",
              "       [0.66403611, 0.33596389],\n",
              "       [0.51284627, 0.48715373],\n",
              "       [0.48173814, 0.51826186]])"
            ]
          },
          "metadata": {
            "tags": []
          },
          "execution_count": 56
        }
      ]
    },
    {
      "cell_type": "code",
      "metadata": {
        "id": "hZ2FtMxptm2M",
        "colab": {
          "base_uri": "https://localhost:8080/",
          "height": 51
        },
        "outputId": "6930093b-9c43-4a2c-b118-db76e65c708a"
      },
      "source": [
        "from sklearn.metrics import confusion_matrix\n",
        "confusion_matrix_action = confusion_matrix(y_validate.astype('int'), y1r_pred.astype('int'))\n",
        "confusion_matrix_action"
      ],
      "execution_count": null,
      "outputs": [
        {
          "output_type": "execute_result",
          "data": {
            "text/plain": [
              "array([[48619, 15022],\n",
              "       [23705, 40055]])"
            ]
          },
          "metadata": {
            "tags": []
          },
          "execution_count": 57
        }
      ]
    },
    {
      "cell_type": "code",
      "metadata": {
        "id": "F80w3pQ9uEkz",
        "colab": {
          "base_uri": "https://localhost:8080/",
          "height": 282
        },
        "outputId": "78140115-c90c-4e19-cc62-4c04edb7bd93"
      },
      "source": [
        "fpr,tpr,thresholds = roc_curve(y_validate.astype('int'),y1r_pred_prob[:,1]) \n",
        "plt.plot(fpr, tpr, marker = 'o')"
      ],
      "execution_count": null,
      "outputs": [
        {
          "output_type": "execute_result",
          "data": {
            "text/plain": [
              "[<matplotlib.lines.Line2D at 0x7eff9faf1c18>]"
            ]
          },
          "metadata": {
            "tags": []
          },
          "execution_count": 58
        },
        {
          "output_type": "display_data",
          "data": {
            "image/png": "[encoded data removed]",
            "text/plain": [
              "<Figure size 432x288 with 1 Axes>"
            ]
          },
          "metadata": {
            "tags": [],
            "needs_background": "light"
          }
        }
      ]
    },
    {
      "cell_type": "code",
      "metadata": {
        "id": "usNJ3N0Xua6E",
        "colab": {
          "base_uri": "https://localhost:8080/",
          "height": 34
        },
        "outputId": "03bef2b9-1e79-4add-888e-672a7413a5aa"
      },
      "source": [
        "auc(fpr,tpr)"
      ],
      "execution_count": null,
      "outputs": [
        {
          "output_type": "execute_result",
          "data": {
            "text/plain": [
              "0.7277787105059225"
            ]
          },
          "metadata": {
            "tags": []
          },
          "execution_count": 59
        }
      ]
    },
    {
      "cell_type": "markdown",
      "metadata": {
        "id": "8UogKmib25ql"
      },
      "source": [
        "**KNN**"
      ]
    },
    {
      "cell_type": "code",
      "metadata": {
        "id": "EpNPeNxpizt4"
      },
      "source": [
        "#KNN\n",
        "#选出X和y的列\n",
        "X_train_sig = X_train[['weather_grade','source_type', 'grid_distance', 'urgency']]\n",
        "y_train_sig = y_train[['action_type']]\n",
        "X_validate_sig = X_validate[['weather_grade','source_type', 'grid_distance', 'urgency']]\n",
        "y_validate_sig = y_validate[['action_type']]\n",
        "\n",
        "#standardize\n",
        "from sklearn.preprocessing import StandardScaler\n",
        "scaler = StandardScaler()\n",
        "scaler.fit(X_train_sig)\n",
        "X_standardized_train = scaler.transform(X_train_sig)\n",
        "scaler.fit(X_validate_sig)\n",
        "X_standardized_validate = scaler.transform(X_validate_sig)"
      ],
      "execution_count": null,
      "outputs": []
    },
    {
      "cell_type": "code",
      "metadata": {
        "id": "OQfvjQPKi7go",
        "colab": {
          "base_uri": "https://localhost:8080/",
          "height": 853
        },
        "outputId": "12a661ef-9a58-4791-d11f-7b9e3bdc2f5f"
      },
      "source": [
        "from sklearn.neighbors import KNeighborsClassifier\n",
        "for i in range(8, 20):\n",
        "  knn = KNeighborsClassifier(n_neighbors = i, metric = 'euclidean')\n",
        "  knn.fit(X_standardized_train,y_train_sig.astype('int'))\n",
        "  OA_knn=knn.score(X_standardized_validate,y_validate_sig.astype('int'))\n",
        "  print(i)\n",
        "  print(OA_knn)"
      ],
      "execution_count": null,
      "outputs": [
        {
          "output_type": "stream",
          "text": [
            "/usr/local/lib/python3.6/dist-packages/ipykernel_launcher.py:4: DataConversionWarning: A column-vector y was passed when a 1d array was expected. Please change the shape of y to (n_samples, ), for example using ravel().\n",
            "  after removing the cwd from sys.path.\n"
          ],
          "name": "stderr"
        },
        {
          "output_type": "stream",
          "text": [
            "8\n",
            "0.685889435718715\n"
          ],
          "name": "stdout"
        },
        {
          "output_type": "stream",
          "text": [
            "/usr/local/lib/python3.6/dist-packages/ipykernel_launcher.py:4: DataConversionWarning: A column-vector y was passed when a 1d array was expected. Please change the shape of y to (n_samples, ), for example using ravel().\n",
            "  after removing the cwd from sys.path.\n"
          ],
          "name": "stderr"
        },
        {
          "output_type": "stream",
          "text": [
            "9\n",
            "0.6879302360264048\n"
          ],
          "name": "stdout"
        },
        {
          "output_type": "stream",
          "text": [
            "/usr/local/lib/python3.6/dist-packages/ipykernel_launcher.py:4: DataConversionWarning: A column-vector y was passed when a 1d array was expected. Please change the shape of y to (n_samples, ), for example using ravel().\n",
            "  after removing the cwd from sys.path.\n"
          ],
          "name": "stderr"
        },
        {
          "output_type": "stream",
          "text": [
            "10\n",
            "0.6883148483920848\n"
          ],
          "name": "stdout"
        },
        {
          "output_type": "stream",
          "text": [
            "/usr/local/lib/python3.6/dist-packages/ipykernel_launcher.py:4: DataConversionWarning: A column-vector y was passed when a 1d array was expected. Please change the shape of y to (n_samples, ), for example using ravel().\n",
            "  after removing the cwd from sys.path.\n"
          ],
          "name": "stderr"
        },
        {
          "output_type": "stream",
          "text": [
            "11\n",
            "0.690237910220485\n"
          ],
          "name": "stdout"
        },
        {
          "output_type": "stream",
          "text": [
            "/usr/local/lib/python3.6/dist-packages/ipykernel_launcher.py:4: DataConversionWarning: A column-vector y was passed when a 1d array was expected. Please change the shape of y to (n_samples, ), for example using ravel().\n",
            "  after removing the cwd from sys.path.\n"
          ],
          "name": "stderr"
        },
        {
          "output_type": "stream",
          "text": [
            "12\n",
            "0.6907324118335021\n"
          ],
          "name": "stdout"
        },
        {
          "output_type": "stream",
          "text": [
            "/usr/local/lib/python3.6/dist-packages/ipykernel_launcher.py:4: DataConversionWarning: A column-vector y was passed when a 1d array was expected. Please change the shape of y to (n_samples, ), for example using ravel().\n",
            "  after removing the cwd from sys.path.\n"
          ],
          "name": "stderr"
        },
        {
          "output_type": "stream",
          "text": [
            "13\n",
            "0.6921531228169323\n"
          ],
          "name": "stdout"
        },
        {
          "output_type": "stream",
          "text": [
            "/usr/local/lib/python3.6/dist-packages/ipykernel_launcher.py:4: DataConversionWarning: A column-vector y was passed when a 1d array was expected. Please change the shape of y to (n_samples, ), for example using ravel().\n",
            "  after removing the cwd from sys.path.\n"
          ],
          "name": "stderr"
        },
        {
          "output_type": "stream",
          "text": [
            "14\n",
            "0.6914388427092409\n"
          ],
          "name": "stdout"
        },
        {
          "output_type": "stream",
          "text": [
            "/usr/local/lib/python3.6/dist-packages/ipykernel_launcher.py:4: DataConversionWarning: A column-vector y was passed when a 1d array was expected. Please change the shape of y to (n_samples, ), for example using ravel().\n",
            "  after removing the cwd from sys.path.\n"
          ],
          "name": "stderr"
        },
        {
          "output_type": "stream",
          "text": [
            "15\n",
            "0.6938721046145635\n"
          ],
          "name": "stdout"
        },
        {
          "output_type": "stream",
          "text": [
            "/usr/local/lib/python3.6/dist-packages/ipykernel_launcher.py:4: DataConversionWarning: A column-vector y was passed when a 1d array was expected. Please change the shape of y to (n_samples, ), for example using ravel().\n",
            "  after removing the cwd from sys.path.\n"
          ],
          "name": "stderr"
        },
        {
          "output_type": "stream",
          "text": [
            "16\n",
            "0.6932755629861618\n"
          ],
          "name": "stdout"
        },
        {
          "output_type": "stream",
          "text": [
            "/usr/local/lib/python3.6/dist-packages/ipykernel_launcher.py:4: DataConversionWarning: A column-vector y was passed when a 1d array was expected. Please change the shape of y to (n_samples, ), for example using ravel().\n",
            "  after removing the cwd from sys.path.\n"
          ],
          "name": "stderr"
        },
        {
          "output_type": "stream",
          "text": [
            "17\n",
            "0.694586384722255\n"
          ],
          "name": "stdout"
        },
        {
          "output_type": "stream",
          "text": [
            "/usr/local/lib/python3.6/dist-packages/ipykernel_launcher.py:4: DataConversionWarning: A column-vector y was passed when a 1d array was expected. Please change the shape of y to (n_samples, ), for example using ravel().\n",
            "  after removing the cwd from sys.path.\n"
          ],
          "name": "stderr"
        },
        {
          "output_type": "stream",
          "text": [
            "18\n",
            "0.6939192000062794\n"
          ],
          "name": "stdout"
        },
        {
          "output_type": "stream",
          "text": [
            "/usr/local/lib/python3.6/dist-packages/ipykernel_launcher.py:4: DataConversionWarning: A column-vector y was passed when a 1d array was expected. Please change the shape of y to (n_samples, ), for example using ravel().\n",
            "  after removing the cwd from sys.path.\n"
          ],
          "name": "stderr"
        },
        {
          "output_type": "stream",
          "text": [
            "19\n",
            "0.6954419510050942\n"
          ],
          "name": "stdout"
        }
      ]
    },
    {
      "cell_type": "markdown",
      "metadata": {
        "id": "NO-VU8gZ-nNT"
      },
      "source": [
        "**CART**"
      ]
    },
    {
      "cell_type": "code",
      "metadata": {
        "id": "1tplZelsxfBb"
      },
      "source": [
        "X_train_sig = X_train[['courier_id', 'wave_index', 'tracking_id',\n",
        "       'courier_wave_start_lng', 'courier_wave_start_lat',\n",
        "       'date', 'group', 'level', 'speed', 'max_load', 'weather_grade',\n",
        "       'id', 'source_type', 'source_tracking_id',\n",
        "       'source_lng', 'source_lat', 'target_lng', 'target_lat', 'grid_distance', \n",
        "       'urgency', 'hour']]\n",
        "#X_train_sig = X_train[['weather_grade','source_type', 'grid_distance', 'urgency']]\n",
        "y_train_sig = y_train[['action_type']]\n",
        "X_validate_sig = X_validate[['courier_id', 'wave_index', 'tracking_id',\n",
        "       'courier_wave_start_lng', 'courier_wave_start_lat',\n",
        "       'date', 'group', 'level', 'speed', 'max_load', 'weather_grade',\n",
        "       'id', 'source_type', 'source_tracking_id',\n",
        "       'source_lng', 'source_lat', 'target_lng', 'target_lat', 'grid_distance', \n",
        "       'urgency', 'hour']]\n",
        "#X_validate_sig = X_validate[['weather_grade','source_type', 'grid_distance', 'urgency']]\n",
        "y_validate_sig = y_validate[['action_type']]"
      ],
      "execution_count": null,
      "outputs": []
    },
    {
      "cell_type": "code",
      "metadata": {
        "id": "_jYC3WcWDqnG",
        "colab": {
          "base_uri": "https://localhost:8080/",
          "height": 765
        },
        "outputId": "7b1284bf-a3fe-4b9e-f496-6b40fdaec5a8"
      },
      "source": [
        "for i in range(5, 16):\n",
        "  from sklearn.tree import DecisionTreeClassifier\n",
        "  tree1 = DecisionTreeClassifier(max_depth=i)\n",
        "  tree1.fit(X_train_sig, y_train_sig.astype('int'))\n",
        "  y_predict = tree1.predict(X_validate_sig)\n",
        "\n",
        "  print(i)\n",
        "  CM_tree1 = confusion_matrix(y_validate_sig.astype('int'), y_predict)\n",
        "  print(CM_tree1)\n",
        "\n",
        "  #overall accuracy\n",
        "  print(accuracy_score(y_validate_sig.astype('int'), y_predict))"
      ],
      "execution_count": null,
      "outputs": [
        {
          "output_type": "stream",
          "text": [
            "5\n",
            "[[44950 18691]\n",
            " [15307 48453]]\n",
            "0.7331418120736886\n",
            "6\n",
            "[[46457 17184]\n",
            " [16558 47202]]\n",
            "0.7351512154535679\n",
            "7\n",
            "[[47078 16563]\n",
            " [16894 46866]]\n",
            "0.7373882465600741\n",
            "8\n",
            "[[46973 16668]\n",
            " [16872 46888]]\n",
            "0.7367367603080038\n",
            "9\n",
            "[[46963 16678]\n",
            " [16522 47238]]\n",
            "0.739405499171906\n",
            "10\n",
            "[[47328 16313]\n",
            " [16618 47142]]\n",
            "0.7415169425671698\n",
            "11\n",
            "[[46755 16886]\n",
            " [15871 47889]]\n",
            "0.7428827089269315\n",
            "12\n",
            "[[47366 16275]\n",
            " [16413 47347]]\n",
            "0.7434243059316646\n",
            "13\n",
            "[[47767 15874]\n",
            " [16589 47171]]\n",
            "0.7451903831210116\n",
            "14\n",
            "[[47436 16205]\n",
            " [16111 47649]]\n",
            "0.7463442202180517\n",
            "15\n",
            "[[48053 15588]\n",
            " [16786 46974]]\n",
            "0.7458889647647977\n"
          ],
          "name": "stdout"
        }
      ]
    },
    {
      "cell_type": "code",
      "metadata": {
        "id": "k5uUNnKkEdvx"
      },
      "source": [
        "from sklearn.tree import DecisionTreeClassifier\n",
        "tree1 = DecisionTreeClassifier(max_depth=i)\n",
        "tree1.fit(X_train_sig, y_train_sig.astype('int'))\n",
        "y_predict = tree1.predict(X_validate_sig)"
      ],
      "execution_count": null,
      "outputs": []
    },
    {
      "cell_type": "code",
      "metadata": {
        "id": "DKyqhGDi8C-y",
        "colab": {
          "base_uri": "https://localhost:8080/",
          "height": 34
        },
        "outputId": "3fcaebd4-5d98-4dab-90ad-c542997d231d"
      },
      "source": [
        "#max_depth可以改\n",
        "from sklearn.tree import DecisionTreeClassifier\n",
        "tree1 = DecisionTreeClassifier(max_depth=14)\n",
        "tree1.fit(X_train_sig, y_train_sig.astype('int'))\n",
        "y_predict = tree1.predict(X_validate_sig)\n",
        "y_predict"
      ],
      "execution_count": null,
      "outputs": [
        {
          "output_type": "execute_result",
          "data": {
            "text/plain": [
              "array([0, 1, 1, ..., 0, 1, 1])"
            ]
          },
          "metadata": {
            "tags": []
          },
          "execution_count": 100
        }
      ]
    },
    {
      "cell_type": "code",
      "metadata": {
        "id": "4PUhIdD20x3N",
        "colab": {
          "base_uri": "https://localhost:8080/",
          "height": 68
        },
        "outputId": "d7024d9d-8674-4e9f-b2d7-fa90f2ac7846"
      },
      "source": [
        "#confusion matrix\n",
        "CM_tree1 = confusion_matrix(y_validate_sig.astype('int'), y_predict)\n",
        "print(CM_tree1)\n",
        "\n",
        "#overall accuracy\n",
        "print(accuracy_score(y_validate_sig.astype('int'), y_predict))"
      ],
      "execution_count": null,
      "outputs": [
        {
          "output_type": "stream",
          "text": [
            "[[47338 16303]\n",
            " [16626 47134]]\n",
            "0.7415326410310751\n"
          ],
          "name": "stdout"
        }
      ]
    },
    {
      "cell_type": "code",
      "metadata": {
        "id": "5bGjQnEVyPxK",
        "colab": {
          "base_uri": "https://localhost:8080/",
          "height": 419
        },
        "outputId": "018ff5d1-ee58-4e58-b1b0-6023455c575b"
      },
      "source": [
        "sample = pd.read_csv('classification_sample.csv')\n",
        "sample"
      ],
      "execution_count": null,
      "outputs": [
        {
          "output_type": "execute_result",
          "data": {
            "text/html": [
              "<div>\n",
              "<style scoped>\n",
              "    .dataframe tbody tr th:only-of-type {\n",
              "        vertical-align: middle;\n",
              "    }\n",
              "\n",
              "    .dataframe tbody tr th {\n",
              "        vertical-align: top;\n",
              "    }\n",
              "\n",
              "    .dataframe thead th {\n",
              "        text-align: right;\n",
              "    }\n",
              "</style>\n",
              "<table border=\"1\" class=\"dataframe\">\n",
              "  <thead>\n",
              "    <tr style=\"text-align: right;\">\n",
              "      <th></th>\n",
              "      <th>order</th>\n",
              "      <th>y_pred</th>\n",
              "    </tr>\n",
              "  </thead>\n",
              "  <tbody>\n",
              "    <tr>\n",
              "      <th>0</th>\n",
              "      <td>0</td>\n",
              "      <td>0</td>\n",
              "    </tr>\n",
              "    <tr>\n",
              "      <th>1</th>\n",
              "      <td>1</td>\n",
              "      <td>1</td>\n",
              "    </tr>\n",
              "    <tr>\n",
              "      <th>2</th>\n",
              "      <td>2</td>\n",
              "      <td>0</td>\n",
              "    </tr>\n",
              "    <tr>\n",
              "      <th>3</th>\n",
              "      <td>3</td>\n",
              "      <td>1</td>\n",
              "    </tr>\n",
              "    <tr>\n",
              "      <th>4</th>\n",
              "      <td>4</td>\n",
              "      <td>1</td>\n",
              "    </tr>\n",
              "    <tr>\n",
              "      <th>...</th>\n",
              "      <td>...</td>\n",
              "      <td>...</td>\n",
              "    </tr>\n",
              "    <tr>\n",
              "      <th>25463</th>\n",
              "      <td>25463</td>\n",
              "      <td>1</td>\n",
              "    </tr>\n",
              "    <tr>\n",
              "      <th>25464</th>\n",
              "      <td>25464</td>\n",
              "      <td>0</td>\n",
              "    </tr>\n",
              "    <tr>\n",
              "      <th>25465</th>\n",
              "      <td>25465</td>\n",
              "      <td>0</td>\n",
              "    </tr>\n",
              "    <tr>\n",
              "      <th>25466</th>\n",
              "      <td>25466</td>\n",
              "      <td>1</td>\n",
              "    </tr>\n",
              "    <tr>\n",
              "      <th>25467</th>\n",
              "      <td>25467</td>\n",
              "      <td>1</td>\n",
              "    </tr>\n",
              "  </tbody>\n",
              "</table>\n",
              "<p>25468 rows × 2 columns</p>\n",
              "</div>"
            ],
            "text/plain": [
              "       order  y_pred\n",
              "0          0       0\n",
              "1          1       1\n",
              "2          2       0\n",
              "3          3       1\n",
              "4          4       1\n",
              "...      ...     ...\n",
              "25463  25463       1\n",
              "25464  25464       0\n",
              "25465  25465       0\n",
              "25466  25466       1\n",
              "25467  25467       1\n",
              "\n",
              "[25468 rows x 2 columns]"
            ]
          },
          "metadata": {
            "tags": []
          },
          "execution_count": 79
        }
      ]
    },
    {
      "cell_type": "code",
      "metadata": {
        "id": "eOcIu27Gkq6x"
      },
      "source": [
        "y_test_predict = tree1.predict(x_test[['courier_id','wave_index','max_load','weather_grade','source_type','grid_distance','urgency']])\n",
        "sample['y_pred'] = y_test_predict"
      ],
      "execution_count": null,
      "outputs": []
    },
    {
      "cell_type": "code",
      "metadata": {
        "id": "ItF2-5udy-z5"
      },
      "source": [
        "sample.to_csv('CART_pred1.csv')"
      ],
      "execution_count": null,
      "outputs": []
    },
    {
      "cell_type": "code",
      "metadata": {
        "id": "F7cEnMCIiSoA",
        "colab": {
          "base_uri": "https://localhost:8080/",
          "height": 1000
        },
        "outputId": "3a9c20ff-c1dd-4d28-f6e3-aff6f71fe77f"
      },
      "source": [
        "OA_vec = []\n",
        "for mp in range(25):\n",
        "  tree_action = DecisionTreeClassifier(max_depth=mp+1)\n",
        "  tree_action.fit(X_train_sig, y_train_sig.astype('int'))\n",
        "  y_predict = tree_action.predict(X_validate_sig)\n",
        "  print(\"\\n\",'Length',mp+1,'OA',accuracy_score(y_validate_sig.astype('int'), y_predict))\n",
        "  OA_vec.append(accuracy_score(y_validate_sig.astype('int'), y_predict))\n",
        "  CM_tree = confusion_matrix(y_validate_sig.astype('int'), y_predict)\n",
        "  print(CM_tree)"
      ],
      "execution_count": null,
      "outputs": [
        {
          "output_type": "stream",
          "text": [
            "\n",
            " Length 1 OA 0.6578284314879789\n",
            "[[35150 28491]\n",
            " [15102 48658]]\n",
            "\n",
            " Length 2 OA 0.7012582318820103\n",
            "[[57106  6535]\n",
            " [31525 32235]]\n",
            "\n",
            " Length 3 OA 0.7111718118382117\n",
            "[[45435 18206]\n",
            " [18591 45169]]\n",
            "\n",
            " Length 4 OA 0.7317917441778322\n",
            "[[46296 17345]\n",
            " [16825 46935]]\n",
            "\n",
            " Length 5 OA 0.7331418120736886\n",
            "[[44950 18691]\n",
            " [15307 48453]]\n",
            "\n",
            " Length 6 OA 0.7351512154535679\n",
            "[[46457 17184]\n",
            " [16558 47202]]\n",
            "\n",
            " Length 7 OA 0.7373803973281214\n",
            "[[47078 16563]\n",
            " [16895 46865]]\n",
            "\n",
            " Length 8 OA 0.7367917049316725\n",
            "[[46977 16664]\n",
            " [16869 46891]]\n",
            "\n",
            " Length 9 OA 0.7393662530121428\n",
            "[[46963 16678]\n",
            " [16527 47233]]\n",
            "\n",
            " Length 10 OA 0.7414698471754538\n",
            "[[47325 16316]\n",
            " [16621 47139]]\n",
            "\n",
            " Length 11 OA 0.7428984073908368\n",
            "[[46748 16893]\n",
            " [15862 47898]]\n",
            "\n",
            " Length 12 OA 0.7433850597719013\n",
            "[[47353 16288]\n",
            " [16405 47355]]\n",
            "\n",
            " Length 13 OA 0.7450726446417218\n",
            "[[47766 15875]\n",
            " [16603 47157]]\n",
            "\n",
            " Length 14 OA 0.7463363709860991\n",
            "[[47457 16184]\n",
            " [16133 47627]]\n",
            "\n",
            " Length 15 OA 0.7458811155328451\n",
            "[[48064 15577]\n",
            " [16798 46962]]\n",
            "\n",
            " Length 16 OA 0.7463206725221937\n",
            "[[47974 15667]\n",
            " [16652 47108]]\n",
            "\n",
            " Length 17 OA 0.7450726446417218\n",
            "[[47818 15823]\n",
            " [16655 47105]]\n",
            "\n",
            " Length 18 OA 0.7434478536275225\n",
            "[[48079 15562]\n",
            " [17123 46637]]\n",
            "\n",
            " Length 19 OA 0.7414384502476433\n",
            "[[48005 15636]\n",
            " [17305 46455]]\n",
            "\n",
            " Length 20 OA 0.7397744130736807\n",
            "[[47701 15940]\n",
            " [17213 46547]]\n",
            "\n",
            " Length 21 OA 0.7374274927198373\n",
            "[[47533 16108]\n",
            " [17344 46416]]\n",
            "\n",
            " Length 22 OA 0.7362344094630341\n",
            "[[47564 16077]\n",
            " [17527 46233]]\n",
            "\n",
            " Length 23 OA 0.7352925016287156\n",
            "[[47705 15936]\n",
            " [17788 45972]]\n",
            "\n",
            " Length 24 OA 0.7326708581565294\n",
            "[[47521 16120]\n",
            " [17938 45822]]\n",
            "\n",
            " Length 25 OA 0.7305437162973603\n",
            "[[47443 16198]\n",
            " [18131 45629]]\n"
          ],
          "name": "stdout"
        }
      ]
    },
    {
      "cell_type": "markdown",
      "metadata": {
        "id": "12cKH073iVRw"
      },
      "source": [
        "**random forest**"
      ]
    },
    {
      "cell_type": "code",
      "metadata": {
        "id": "OOdr5bs8orAe",
        "colab": {
          "base_uri": "https://localhost:8080/",
          "height": 122
        },
        "outputId": "0bf403e5-a8ce-47cf-e143-7050a3a7d9d2"
      },
      "source": [
        "from sklearn.ensemble import RandomForestClassifier\n",
        "from sklearn.metrics import confusion_matrix\n",
        "rf_tree = RandomForestClassifier(max_depth = 29, n_estimators = 50)\n",
        "rf_tree.fit(X_train_sig, y_train_sig.astype('int'))\n",
        "y_predict = rf_tree.predict(X_validate_sig)\n",
        "CM_RF = confusion_matrix(y_validate_sig, y_predict)\n",
        "print(accuracy_score(y_validate_sig.astype('int'), y_predict))\n",
        "print(CM_RF)"
      ],
      "execution_count": null,
      "outputs": [
        {
          "output_type": "stream",
          "text": [
            "/usr/local/lib/python3.6/dist-packages/ipykernel_launcher.py:4: DataConversionWarning: A column-vector y was passed when a 1d array was expected. Please change the shape of y to (n_samples,), for example using ravel().\n",
            "  after removing the cwd from sys.path.\n"
          ],
          "name": "stderr"
        },
        {
          "output_type": "stream",
          "text": [
            "0.984937323882858\n",
            "[[62755  1036]\n",
            " [  883 62727]]\n"
          ],
          "name": "stdout"
        }
      ]
    },
    {
      "cell_type": "code",
      "metadata": {
        "id": "z9nyYZCuHa8e",
        "colab": {
          "base_uri": "https://localhost:8080/",
          "height": 309
        },
        "outputId": "dd9e9ce8-98c6-42f4-ef18-cdcf99a24f63"
      },
      "source": [
        "from sklearn.ensemble import RandomForestClassifier\n",
        "from sklearn.metrics import accuracy_score\n",
        "for i in range(26, 30):\n",
        "  rf_tree = RandomForestClassifier(max_depth = i, n_estimators = 50)\n",
        "  rf_tree.fit(X_train_sig, y_train_sig.astype('int'))\n",
        "  y_predict = rf_tree.predict(X_validate_sig)\n",
        "\n",
        "  print(i)\n",
        "  print(accuracy_score(y_validate_sig.astype('int'), y_predict))"
      ],
      "execution_count": null,
      "outputs": [
        {
          "output_type": "stream",
          "text": [
            "/usr/local/lib/python3.6/dist-packages/ipykernel_launcher.py:5: DataConversionWarning: A column-vector y was passed when a 1d array was expected. Please change the shape of y to (n_samples,), for example using ravel().\n",
            "  \"\"\"\n"
          ],
          "name": "stderr"
        },
        {
          "output_type": "stream",
          "text": [
            "26\n",
            "0.9563661195751996\n"
          ],
          "name": "stdout"
        },
        {
          "output_type": "stream",
          "text": [
            "/usr/local/lib/python3.6/dist-packages/ipykernel_launcher.py:5: DataConversionWarning: A column-vector y was passed when a 1d array was expected. Please change the shape of y to (n_samples,), for example using ravel().\n",
            "  \"\"\"\n"
          ],
          "name": "stderr"
        },
        {
          "output_type": "stream",
          "text": [
            "27\n",
            "0.9712090171976672\n"
          ],
          "name": "stdout"
        },
        {
          "output_type": "stream",
          "text": [
            "/usr/local/lib/python3.6/dist-packages/ipykernel_launcher.py:5: DataConversionWarning: A column-vector y was passed when a 1d array was expected. Please change the shape of y to (n_samples,), for example using ravel().\n",
            "  \"\"\"\n"
          ],
          "name": "stderr"
        },
        {
          "output_type": "stream",
          "text": [
            "28\n",
            "0.9783753659704398\n"
          ],
          "name": "stdout"
        },
        {
          "output_type": "stream",
          "text": [
            "/usr/local/lib/python3.6/dist-packages/ipykernel_launcher.py:5: DataConversionWarning: A column-vector y was passed when a 1d array was expected. Please change the shape of y to (n_samples,), for example using ravel().\n",
            "  \"\"\"\n"
          ],
          "name": "stderr"
        },
        {
          "output_type": "stream",
          "text": [
            "29\n",
            "0.9846312038367045\n"
          ],
          "name": "stdout"
        }
      ]
    },
    {
      "cell_type": "code",
      "metadata": {
        "id": "5OPyKce6QZQ2"
      },
      "source": [
        "X_train = data_train[['courier_id', 'wave_index', 'tracking_id',\n",
        "       'courier_wave_start_lng', 'courier_wave_start_lat',\n",
        "       'date', 'group', 'level', 'speed', 'max_load', 'weather_grade',\n",
        "       'id', 'source_type', 'source_tracking_id',\n",
        "       'source_lng', 'source_lat', 'target_lng', 'target_lat', 'grid_distance', \n",
        "       'urgency', 'hour']]\n",
        "y_train = data_train[['action_type']]\n",
        "\n",
        "X_test = data_test[['courier_id', 'wave_index', 'tracking_id',\n",
        "       'courier_wave_start_lng', 'courier_wave_start_lat',\n",
        "       'date', 'group', 'level', 'speed', 'max_load', 'weather_grade',\n",
        "       'id', 'source_type', 'source_tracking_id',\n",
        "       'source_lng', 'source_lat', 'target_lng', 'target_lat', 'grid_distance', \n",
        "       'urgency', 'hour']]"
      ],
      "execution_count": null,
      "outputs": []
    },
    {
      "cell_type": "code",
      "metadata": {
        "id": "fOWHOSHEMCMf",
        "colab": {
          "base_uri": "https://localhost:8080/",
          "height": 71
        },
        "outputId": "c4538440-8122-40c2-85d5-0b43c154d95b"
      },
      "source": [
        "from sklearn.ensemble import RandomForestClassifier\n",
        "rf_tree = RandomForestClassifier(max_depth = 29, n_estimators = 50)\n",
        "rf_tree.fit(X_train, y_train.astype('int'))\n",
        "y_predict = rf_tree.predict(X_test)"
      ],
      "execution_count": null,
      "outputs": [
        {
          "output_type": "stream",
          "text": [
            "/usr/local/lib/python3.6/dist-packages/ipykernel_launcher.py:3: DataConversionWarning: A column-vector y was passed when a 1d array was expected. Please change the shape of y to (n_samples,), for example using ravel().\n",
            "  This is separate from the ipykernel package so we can avoid doing imports until\n"
          ],
          "name": "stderr"
        }
      ]
    },
    {
      "cell_type": "code",
      "metadata": {
        "id": "y9lcp66NMd3Z"
      },
      "source": [
        "RF_prediction = pd.read_csv('classification_sample.csv')"
      ],
      "execution_count": null,
      "outputs": []
    },
    {
      "cell_type": "code",
      "metadata": {
        "id": "1fQKwGmfMYvo"
      },
      "source": [
        "RF_prediction['y_pred'] = y_predict\n",
        "RF_prediction.to_csv('RF_prediction9.csv')"
      ],
      "execution_count": null,
      "outputs": []
    },
    {
      "cell_type": "code",
      "metadata": {
        "id": "mwK6qw-is_ih",
        "colab": {
          "base_uri": "https://localhost:8080/",
          "height": 1000
        },
        "outputId": "c7e8fa0d-9cce-459d-e1ed-bd75a6746c43"
      },
      "source": [
        "for j in range (10):\n",
        "    val_score = []\n",
        "    test_score = []\n",
        "    #X_train_validate, X_test, y_train_validate, y_test = train_test_split(x,y, test_size = 0.999)\n",
        "    X_train, X_validate, y_train, y_validate = train_test_split(x, y, test_size = 0.25)\n",
        "    print(j)\n",
        "    for i in range(3,10):\n",
        "        tree_D2Hawkeye = DecisionTreeClassifier(max_depth = i)\n",
        "        tree_D2Hawkeye.fit(X_train, y_train)\n",
        "        print(i)\n",
        "        val_score.append(tree_D2Hawkeye.score(X_validate, y_validate))\n",
        "    \n",
        "    #max_val_score.append(np.max(val_score))\n",
        "    print('Valid score')\n",
        "    print(np.max(val_score))\n",
        " "
      ],
      "execution_count": null,
      "outputs": [
        {
          "output_type": "stream",
          "text": [
            "0\n",
            "3\n",
            "4\n",
            "5\n",
            "6\n",
            "7\n",
            "8\n",
            "9\n",
            "Valid score\n",
            "0.7386048775127354\n",
            "1\n",
            "3\n",
            "4\n",
            "5\n",
            "6\n",
            "7\n",
            "8\n",
            "9\n",
            "Valid score\n",
            "0.7375844773588904\n",
            "2\n",
            "3\n",
            "4\n",
            "5\n",
            "6\n",
            "7\n",
            "8\n",
            "9\n",
            "Valid score\n",
            "0.7376001758227957\n",
            "3\n",
            "3\n",
            "4\n",
            "5\n",
            "6\n",
            "7\n",
            "8\n",
            "9\n",
            "Valid score\n",
            "0.7386755206003093\n",
            "4\n",
            "3\n",
            "4\n",
            "5\n",
            "6\n",
            "7\n",
            "8\n",
            "9\n",
            "Valid score\n",
            "0.7398058100014914\n",
            "5\n",
            "3\n",
            "4\n",
            "5\n",
            "6\n",
            "7\n",
            "8\n",
            "9\n",
            "Valid score\n",
            "0.7390051883423207\n",
            "6\n",
            "3\n",
            "4\n",
            "5\n",
            "6\n",
            "7\n",
            "8\n",
            "9\n",
            "Valid score\n",
            "0.7400334377281182\n",
            "7\n",
            "3\n",
            "4\n",
            "5\n",
            "6\n",
            "7\n",
            "8\n",
            "9\n",
            "Valid score\n",
            "0.7388089575435044\n",
            "8\n",
            "3\n",
            "4\n",
            "5\n",
            "6\n",
            "7\n",
            "8\n",
            "9\n",
            "Valid score\n",
            "0.7396174284346276\n",
            "9\n",
            "3\n",
            "4\n",
            "5\n",
            "6\n",
            "7\n",
            "8\n",
            "9\n",
            "Valid score\n",
            "0.7385185359612562\n"
          ],
          "name": "stdout"
        }
      ]
    }
  ]
}